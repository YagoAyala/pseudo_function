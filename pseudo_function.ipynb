{
 "cells": [
  {
   "cell_type": "code",
   "execution_count": null,
   "metadata": {},
   "outputs": [],
   "source": [
    "import pandas as pd\n",
    "from cryptography.fernet import Fernet\n",
    "import os\n",
    "\n",
    "def generate_key():\n",
    "    key = Fernet.generate_key()\n",
    "    with open(\"crypto_key.key\", \"wb\") as key_file:\n",
    "        key_file.write(key)\n",
    "    return key\n",
    "\n",
    "def load_key():\n",
    "    return open(\"crypto_key.key\", \"rb\").read()\n",
    "\n",
    "if not os.path.exists(\"crypto_key.key\"):\n",
    "    key = generate_key()\n",
    "else:\n",
    "    key = load_key()\n",
    "\n",
    "cipher = Fernet(key)\n",
    "\n",
    "def pseudo_anonymize(data):\n",
    "    return cipher.encrypt(str(data).encode()).decode()\n",
    "\n",
    "def depseudo_anonymize(data):\n",
    "    return cipher.decrypt(data.encode()).decode()\n",
    "\n",
    "def anonymize_data(data):\n",
    "    return \"ANONYMIZED\"\n",
    "\n",
    "def process_file(file_path):\n",
    "    if os.path.exists(file_path):\n",
    "        data = pd.read_csv(file_path)\n",
    "\n",
    "        data['NUCONTRATO'] = data['NUCONTRATO'].apply(pseudo_anonymize)\n",
    "        data['NUIDENTIFICACAOCONTRATADO'] = data['NUIDENTIFICACAOCONTRATADO'].astype(str).apply(pseudo_anonymize)\n",
    "\n",
    "        data['NMCONTRATADO'] = data['NMCONTRATADO'].apply(lambda x: anonymize_data(x))\n",
    "        data['DEOBJETOCONTRATO'] = data['DEOBJETOCONTRATO'].apply(lambda x: anonymize_data(x))\n",
    "\n",
    "        anonymized_file_path = file_path.replace(\".csv\", \"_anonymized.csv\")\n",
    "        data.to_csv(anonymized_file_path, index=False)\n",
    "        print(f\"Arquivo anonimizado salvo como: {anonymized_file_path}\")\n",
    "    else:\n",
    "        print(\"Erro: O arquivo especificado não existe.\")\n",
    "\n",
    "process_file('/content/contrato_item.csv')\n"
   ]
  }
 ],
 "metadata": {
  "language_info": {
   "name": "python"
  }
 },
 "nbformat": 4,
 "nbformat_minor": 2
}
